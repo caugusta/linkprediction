{
 "cells": [
  {
   "cell_type": "markdown",
   "metadata": {},
   "source": [
    "In McAuley et al 2015, the authors don't bother to impute missing data - they just let the side information do the work. For example, if they're missing a rating for an item, then they don't try to figure out what that rating would be. Instead, they use the category tree, brand, price, and other covariates to inform whether that product is substitutable with or complementary to another product. Would we get better results if we used a stacked denoising autoencoder, such as that from Strub et al 2016, to predict missing ratings, and then feed those ratings in to the model to figure out if two products are substitutable or complementary?"
   ]
  },
  {
   "cell_type": "markdown",
   "metadata": {},
   "source": [
    "Another idea: suppose we have one autoencoder for substitutable and one for complementary products. We feed in the features such as rating, price, etc. The category tree...not yet sure how to incorporate that. In McAuley et al 2015, it directly informs how to learn topics, but in this case we don't really want to be doing that - we want to be discovering hidden features that have to do with the character or qualities of the products. \n",
    "\n",
    "Their input is a user review, and they discover topics from that review, such that the topics can only be drawn from specific categories of the category tree.\n",
    "\n",
    "It may be interesting to predict missing reviews with, for example, a RNN, and then use that as additional information - to ensure we have 'complete' information for all samples. That is, if a rating is missing, we use a SDAE to predict the rating; if a review is missing, we use an RNN to predict what the user would have said about the item. Then we can use these as additional features to inform whether products are substitutable or complementary."
   ]
  },
  {
   "cell_type": "code",
   "execution_count": null,
   "metadata": {
    "collapsed": true
   },
   "outputs": [],
   "source": []
  },
  {
   "cell_type": "code",
   "execution_count": null,
   "metadata": {
    "collapsed": true
   },
   "outputs": [],
   "source": []
  }
 ],
 "metadata": {
  "kernelspec": {
   "display_name": "Python [Root]",
   "language": "python",
   "name": "Python [Root]"
  },
  "language_info": {
   "codemirror_mode": {
    "name": "ipython",
    "version": 2
   },
   "file_extension": ".py",
   "mimetype": "text/x-python",
   "name": "python",
   "nbconvert_exporter": "python",
   "pygments_lexer": "ipython2",
   "version": "2.7.12"
  }
 },
 "nbformat": 4,
 "nbformat_minor": 0
}
